{
 "cells": [
  {
   "cell_type": "markdown",
   "id": "32e53fb8-9ade-4a2a-954c-dc5bc392b84a",
   "metadata": {},
   "source": [
    "<h2> Most frequent used methods</h2>\n"
   ]
  },
  {
   "cell_type": "markdown",
   "id": "4f57f644-a626-4903-a902-584184674cb5",
   "metadata": {},
   "source": [
    "<ol>\n",
    "<li>introduction with our data</li>\n",
    "<li>top 5 and bottom 5 records</li>\n",
    "<li>renaming the column names</li>\n",
    "<li>staistical description</li>\n",
    "<li>adding new column</li>\n",
    "<li>dropping column</li>\n",
    "<li>setting any column in index</li>\n",
    "<li>resetting index</li>\n",
    "<li>selecting row with index position</li>\n",
    "<li>selecting susbsection of the dataset with LOC and iloc </li>\n",
    "<li>how to drop row</li>\n",
    "<li>if required conditional filtering </li>\n",
    "<li>apply function on single column</li>\n",
    "<li>apply func on multiple column using lambda func</li>\n",
    "<li>sorting method</li>\n",
    "<li>min,max and their index position</li>\n",
    "<li>value_counts</li>\n",
    "<li>unique/nunique</li>\n",
    "<li>replace/mapfunction</li>\n",
    "<li>treatment of duplicate values</li>\n",
    "<li>nlargest/nsmallest to get highest/lowest records</li>\n",
    "<li>sample of the dataset</li>\n",
    "<li>handle missing data</li>\n",
    "<li>isnull/notnull</li>\n",
    "<li>dropping missing values</li>\n",
    "<li>filling missing values</li>\n",
    "<li>group by operation on pandas</li>\n",
    "<li>combine dataframe --- concatenation</li>\n",
    "<li>combining dataframe -- mergin --join(inner/left/right/outer)</li>\n",
    "<li>text method on string data</li>\n",
    "<li>cleaning of data</li>\n",
    "</ol>"
   ]
  },
  {
   "cell_type": "raw",
   "id": "afe62e14-d42f-42ff-85d0-5a68f9d08304",
   "metadata": {},
   "source": [
    "handle missing data\n",
    "option for missing data\n",
    ".keep it\n",
    ".remove it\n",
    ".replace it\n",
    "\n",
    "\n",
    "keeping the missing data\n",
    "pros --> does not manipulate or changes the true data\n",
    "cons --> many method or model do not support nan values\n",
    "\n",
    "dropping or removing the missing data\n",
    "pros --> easy /can be beased on rules\n",
    "cons --> chance of lossing lot of data or useful information can also loss\n",
    "\n",
    "filling or replace the missing data\n",
    "pros --> potential to save lot of data for use of traiing a model\n",
    "cons --> potential to lead false conclusion\n",
    "\n"
   ]
  },
  {
   "cell_type": "markdown",
   "id": "b229b023-e6bb-4b43-b55c-434a741937f1",
   "metadata": {},
   "source": [
    "<h2> Feature Engineering - concept</h2>"
   ]
  },
  {
   "cell_type": "markdown",
   "id": "50885a83-3f2f-42f1-a2ff-f303deb109b0",
   "metadata": {},
   "source": [
    "<p>dataset - model(make predictions)</p>\n",
    "<p>feature - columns(attribute in your dataset)</p>\n",
    "\n",
    "<h4>feature Creation:</h4> --- Creating new column\n",
    "(Existing data  to extract more information)\n",
    "\n",
    "example: from order_date , create new column -- order_month\n",
    "(because - monthly trends --(idea))\n",
    "\n",
    "use case: helps in monthly revenue analysis, product demamnd by month\n",
    "\n",
    "Code: <b>df['order_month'] = pd.to_datetime(df['order_date']).dt.month</b>\n",
    "\n",
    "<p>demographic information</p>\n",
    "age  \n",
    "gender\n",
    "income\n",
    "education\n",
    "location\n",
    "occupation\n",
    "marital status\n"
   ]
  },
  {
   "cell_type": "markdown",
   "id": "90dafdc9-47fb-45e5-a867-49ce4bafdf89",
   "metadata": {},
   "source": [
    "<h4> Feature Encoding</h4>\n",
    "\n",
    "categorical data to numerical data for analysis/modelling.\n",
    "\n",
    "<h5>one hot encoding</h5>\n",
    "\n",
    "Example: pd.get_dummies(df['category'])\n",
    "\n",
    "<h5>Label Encoding</h5>\n",
    "\n",
    "from sklearn.preprocessing import Label Encoder\n",
    "le = LabelEncoder()\n",
    "df['category_encoded'] = le.fit_transform(df['category'])\n",
    "\n",
    "\n",
    "\n",
    "\n",
    "\n",
    "\n"
   ]
  },
  {
   "cell_type": "markdown",
   "id": "3c546880-caf9-4721-9bac-a2ee4edd6cd3",
   "metadata": {},
   "source": [
    "<h2>Feature Scaling and transformation</h2>\n",
    "\n",
    "<p> Concept: Normalization or standardize numerica data to avoid dominance of large values</p>\n",
    "from sklearn.preprocessing import StandardScaler\n",
    "scaler = StandardScaler()\n",
    "\n",
    "df['scaled_priced'] = scaler.fit_transform(df['price'])\n"
   ]
  },
  {
   "cell_type": "markdown",
   "id": "7043aca8-7651-4b5c-ba37-63dc3dcc9f69",
   "metadata": {},
   "source": [
    "<h2> Visualization in EDA</h2>\n",
    "understand the feature how it is distributed in our dataset\n",
    "\n"
   ]
  },
  {
   "cell_type": "markdown",
   "id": "14e02828-e149-4ad4-9227-deaf36cdad10",
   "metadata": {},
   "source": [
    "<h2>Releationship anlysis</h2>\n",
    "scatter plot/line/bubbleplots\n"
   ]
  },
  {
   "cell_type": "markdown",
   "id": "ee57ccf5-eafb-4734-86cd-3f36ff4bce9b",
   "metadata": {},
   "source": [
    "<h2>comparative anlaysis</h2>\n",
    "bar chart"
   ]
  },
  {
   "cell_type": "markdown",
   "id": "88d1f225-02c3-4f21-9058-c07a83289db6",
   "metadata": {},
   "source": [
    "<h2>Statistical Analsysis in EDA</h2>\n",
    "<h3>descriptive statistics</h3>\n",
    "df.describe()\n",
    "-quick summary\n",
    "\n"
   ]
  },
  {
   "cell_type": "markdown",
   "id": "4f17a0b4-1c74-4805-87f1-8120a77a9dca",
   "metadata": {},
   "source": [
    "<h2>Hyposthesis Testing</h2>"
   ]
  },
  {
   "cell_type": "raw",
   "id": "a6cb8711-8b45-4cf6-baf4-d5c2db721d67",
   "metadata": {},
   "source": [
    " - H0 - null hypothesis/H1- alternative hypothiesis\n",
    "<h3>chi-square Test</h3> - categorical  vs catergorical\n",
    "from scipy.stats import chi2_contingency\n",
    "<h3>T-test</h3> - \n",
    "group1 = df[df['country'] == 'USA']['sales_amount']\n",
    "group2 = df[df['country'] == 'UK']['sales_amount']\n",
    "from scipy.stats import ttest_ind\n",
    "t_stat, p_val = ttest_ind(group1,group2)\n",
    "<h3> Anova</h3> - compare mean across multiple group\n",
    "from scipy.stats import f_oneway\n",
    "group1 = df[df['country'] == 'USA']['sales_amount']\n",
    "group2 = df[df['country'] == 'UK']['sales_amount']\n",
    "group3 = df[df['country'] == 'INDIA']['sales_amount']\n"
   ]
  },
  {
   "cell_type": "markdown",
   "id": "c0d9e373-6e5a-444d-a2e2-db4a3cbd0891",
   "metadata": {},
   "source": [
    "<h2>Quick Comparison Table</h2>\n",
    "\n"
   ]
  },
  {
   "cell_type": "raw",
   "id": "e35d6eff-b993-499d-902e-75f5f0a7d8f0",
   "metadata": {},
   "source": [
    "Method\t   Match on\t                  Need index\tuse case\n",
    "merge()\t  column(based on column)\t   No\t        LIKE SQL - joins \n",
    "Join()\t  index in one DF\t          Yes\t       Simpler joins when index is key\n",
    "concat()\tNo matching             \tNO\t        Adding data side by side\n"
   ]
  },
  {
   "cell_type": "code",
   "execution_count": null,
   "id": "631b4744-f155-4a25-9079-613765da81f2",
   "metadata": {},
   "outputs": [],
   "source": []
  }
 ],
 "metadata": {
  "kernelspec": {
   "display_name": "Python 3 (ipykernel)",
   "language": "python",
   "name": "python3"
  },
  "language_info": {
   "codemirror_mode": {
    "name": "ipython",
    "version": 3
   },
   "file_extension": ".py",
   "mimetype": "text/x-python",
   "name": "python",
   "nbconvert_exporter": "python",
   "pygments_lexer": "ipython3",
   "version": "3.12.3"
  }
 },
 "nbformat": 4,
 "nbformat_minor": 5
}
